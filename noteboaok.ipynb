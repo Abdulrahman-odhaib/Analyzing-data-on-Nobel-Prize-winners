****The Nobel Prize has been among the most prestigious international awards since 
1901. Prizes are awarded annually in the fields of chemistry, literature, physics, physiology or medicine, 
economics and peace. In addition to honour, prestige and a significant amount of prize money, the award 
recipient also receives a gold medal bearing the image of Alfred Nobel (1833 - 1896), who founded the 
award. The Nobel Foundation has made available a dataset of all laureates from the awards' inception, 1901 
to 2023. The dataset used in this project was taken from the Nobel Prize API.
Analyze the data of Nobel Prize winners in detail, using the information you have learned until you come 
to this data set (keep the analyzes in your codebook and you can talk about the important ones in the video 
you will shoot). Prepare a Power Point presentation containing your analysis and the visuals you created 
and answer the questions below. In addition to the questions, it is entirely up to your creativity to extract 
meaningful information from the data and support it with various visuals.**
