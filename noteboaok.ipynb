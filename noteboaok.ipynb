# Visualizing the History of Nobel Prize Winners

## Introduction
The Nobel Prize has been among the most prestigious international awards since 1901. Prizes are awarded annually in the fields of chemistry, literature, physics, physiology or medicine, economics, and peace. This project utilizes a dataset of all laureates from the awards' inception, 1901 to 2023, obtained from the Nobel Prize API.

## Analysis: Most Awarded Gender and Birth Country
```python
def most_awarded_gender_and_country(nobel_data):
    # Section 1: Most Awarded Gender and Birth Country
    top_gender = nobel_data['sex'].value_counts().idxmax()
    top_country = nobel_data['birth_country'].value_counts().idxmax()

    print("#1 Most awarded gender:", top_gender)
    print("#1 Most awarded birth country:", top_country)
    print("____________________")

    # Visualize the number of Nobel Prize winners by gender
    gender_counts = nobel_data['sex'].value_counts()
    ax = gender_counts.plot(kind='bar', color=['blue', 'pink'])

    for p in ax.patches:
        ax.annotate(str(p.get_height()), (p.get_x() + p.get_width() / 2., p.get_height()),
                    ha='center', va='center', xytext=(0, 10), textcoords='offset points')

    plt.title('Number of Nobel Prize Winners by Gender')
    plt.xlabel('Gender')
    plt.ylabel('Number of Winners')
    plt.show()
